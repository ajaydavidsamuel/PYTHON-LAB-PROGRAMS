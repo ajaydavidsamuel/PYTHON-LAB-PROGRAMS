{
  "nbformat": 4,
  "nbformat_minor": 0,
  "metadata": {
    "colab": {
      "provenance": [],
      "include_colab_link": true
    },
    "kernelspec": {
      "name": "python3",
      "display_name": "Python 3"
    },
    "language_info": {
      "name": "python"
    }
  },
  "cells": [
    {
      "cell_type": "markdown",
      "metadata": {
        "id": "view-in-github",
        "colab_type": "text"
      },
      "source": [
        "<a href=\"https://colab.research.google.com/github/ajaydavidsamuel/PYTHON-LAB-PROGRAMS/blob/main/EXPERIMENT_7.ipynb\" target=\"_parent\"><img src=\"https://colab.research.google.com/assets/colab-badge.svg\" alt=\"Open In Colab\"/></a>"
      ]
    },
    {
      "cell_type": "markdown",
      "source": [
        "Write a program to create a set and perform the following operations: Add an element, remove an element, check for membership, and clear the set."
      ],
      "metadata": {
        "id": "o-6ayr0amgpW"
      }
    },
    {
      "cell_type": "code",
      "source": [
        "my_set = set()\n",
        "n = int(input(\"Enter number of elements to add in the set: \"))\n",
        "for i in range(n):\n",
        "    element = input(f\"Enter element {i+1}: \")\n",
        "    my_set.add(element)\n",
        "\n",
        "print(\"Set after addition:\", my_set)\n",
        "\n",
        "remove_element = input(\"Enter an element to remove: \")\n",
        "my_set.discard(remove_element)\n",
        "print(\"Set after removal:\", my_set)\n",
        "\n",
        "check = input(\"Enter element to check for membership: \")\n",
        "print(check in my_set)\n",
        "\n",
        "clear_confirm = input(\"Do you want to clear the set? (yes/no): \")\n",
        "if clear_confirm.lower() == \"yes\":\n",
        "    my_set.clear()\n",
        "    print(\"Set is cleared:\", my_set)\n"
      ],
      "metadata": {
        "id": "K0CQA3n5mjt9"
      },
      "execution_count": null,
      "outputs": []
    },
    {
      "cell_type": "markdown",
      "source": [
        "Write a program to take two sets of integers and perform the following operations: Union, intersection, difference, and symmetric difference."
      ],
      "metadata": {
        "id": "EZ5zVXqmmj-1"
      }
    },
    {
      "cell_type": "code",
      "source": [
        "set1 = set(map(int, input(\"Enter elements of set 1 separated by space: \").split()))\n",
        "set2 = set(map(int, input(\"Enter elements of set 2 separated by space: \").split()))\n",
        "\n",
        "print(\"Union:\", set1 | set2)\n",
        "print(\"Intersection:\", set1 & set2)\n",
        "print(\"Difference (set1 - set2):\", set1 - set2)\n",
        "print(\"Symmetric Difference:\", set1 ^ set2)\n"
      ],
      "metadata": {
        "id": "sx5DQi0ImmRw"
      },
      "execution_count": null,
      "outputs": []
    },
    {
      "cell_type": "markdown",
      "source": [
        "Write a program to count the number of unique words in a given sentence using a set."
      ],
      "metadata": {
        "id": "X3E30J7ummf7"
      }
    },
    {
      "cell_type": "code",
      "source": [
        "sentence = input(\"Enter a sentence: \")\n",
        "words = set(sentence.split())\n",
        "print(\"Number of unique words:\", len(words))\n"
      ],
      "metadata": {
        "id": "e0jsk7YDmo6A"
      },
      "execution_count": null,
      "outputs": []
    },
    {
      "cell_type": "markdown",
      "source": [
        "Write a program to create a set of even numbers from 1 to 20 using set comprehension."
      ],
      "metadata": {
        "id": "YMVnxR6BmpLD"
      }
    },
    {
      "cell_type": "code",
      "source": [
        "even_set = {x for x in range(1, 21) if x % 2 == 0}\n",
        "print(\"Even numbers from 1 to 20:\", even_set)\n"
      ],
      "metadata": {
        "id": "3MECUUCKmrR2"
      },
      "execution_count": null,
      "outputs": []
    },
    {
      "cell_type": "markdown",
      "source": [
        "Write a program to create a dictionary with names and ages of 5 people and print the dictionary."
      ],
      "metadata": {
        "id": "g7gDNf6cmrgn"
      }
    },
    {
      "cell_type": "code",
      "source": [
        "people = {}\n",
        "for i in range(5):\n",
        "    name = input(f\"Enter name {i+1}: \")\n",
        "    age = int(input(f\"Enter age of {name}: \"))\n",
        "    people[name] = age\n",
        "print(\"Name and Age Dictionary:\", people)\n"
      ],
      "metadata": {
        "id": "SQMzJsRamtj6"
      },
      "execution_count": null,
      "outputs": []
    },
    {
      "cell_type": "markdown",
      "source": [
        "Write a program to search for a key in a dictionary and print its value if found."
      ],
      "metadata": {
        "id": "zaQYr6UXmtyY"
      }
    },
    {
      "cell_type": "code",
      "source": [
        "data = {}\n",
        "n = int(input(\"Enter number of entries: \"))\n",
        "for i in range(n):\n",
        "    key = input(f\"Enter key {i+1}: \")\n",
        "    value = input(f\"Enter value for {key}: \")\n",
        "    data[key] = value\n",
        "\n",
        "search_key = input(\"Enter key to search: \")\n",
        "if search_key in data:\n",
        "    print(\"Value:\", data[search_key])\n",
        "else:\n",
        "    print(\"Key not found\")\n"
      ],
      "metadata": {
        "id": "QwqN5sdPnAy9"
      },
      "execution_count": null,
      "outputs": []
    },
    {
      "cell_type": "markdown",
      "source": [],
      "metadata": {
        "id": "hWndYd_em9o_"
      }
    },
    {
      "cell_type": "markdown",
      "source": [
        "Write a program to update a value in a dictionary and remove a key-value pair."
      ],
      "metadata": {
        "id": "0LWpLjtTnEBX"
      }
    },
    {
      "cell_type": "code",
      "source": [
        "info = {}\n",
        "n = int(input(\"Enter number of entries: \"))\n",
        "for i in range(n):\n",
        "    key = input(f\"Enter key {i+1}: \")\n",
        "    value = input(f\"Enter value for {key}: \")\n",
        "    info[key] = value\n",
        "\n",
        "update_key = input(\"Enter the key to update: \")\n",
        "if update_key in info:\n",
        "    new_value = input(\"Enter new value: \")\n",
        "    info[update_key] = new_value\n",
        "\n",
        "remove_key = input(\"Enter the key to remove: \")\n",
        "info.pop(remove_key, None)\n",
        "\n",
        "print(\"Updated Dictionary:\", info)\n"
      ],
      "metadata": {
        "id": "i_0j0HSRnFIB"
      },
      "execution_count": null,
      "outputs": []
    },
    {
      "cell_type": "markdown",
      "source": [
        "Write a program to count the frequency of characters in a user-given string using a dictionary."
      ],
      "metadata": {
        "id": "xldjrm6mnFVu"
      }
    },
    {
      "cell_type": "code",
      "source": [
        "text = input(\"Enter a string: \")\n",
        "freq = {}\n",
        "for char in text:\n",
        "    freq[char] = freq.get(char, 0) + 1\n",
        "print(\"Character Frequencies:\", freq)\n"
      ],
      "metadata": {
        "id": "guDDByWhnHb-"
      },
      "execution_count": null,
      "outputs": []
    },
    {
      "cell_type": "markdown",
      "source": [
        "Write a program to merge two dictionaries into one."
      ],
      "metadata": {
        "id": "Pp1B40zcnHy3"
      }
    },
    {
      "cell_type": "code",
      "source": [
        "dict1 = {'a': 1, 'b': 2}\n",
        "dict2 = {'c': 3, 'd': 4}\n",
        "merged = {**dict1, **dict2}\n",
        "print(\"Merged Dictionary:\", merged)\n"
      ],
      "metadata": {
        "id": "NpDr213snKCF"
      },
      "execution_count": null,
      "outputs": []
    },
    {
      "cell_type": "markdown",
      "source": [
        "Write a program to create a dictionary with student names and marks, and print names of students who scored more than 80."
      ],
      "metadata": {
        "id": "hnEizp9NnKOn"
      }
    },
    {
      "cell_type": "code",
      "source": [
        "students = {}\n",
        "n = int(input(\"Enter number of students: \"))\n",
        "for i in range(n):\n",
        "    name = input(f\"Enter name of student {i+1}: \")\n",
        "    marks = int(input(f\"Enter marks of {name}: \"))\n",
        "    students[name] = marks\n",
        "\n",
        "print(\"Students who scored more than 80:\")\n",
        "for name, marks in students.items():\n",
        "    if marks > 80:\n",
        "        print(name)\n"
      ],
      "metadata": {
        "id": "skrAsL1cnMGT"
      },
      "execution_count": null,
      "outputs": []
    }
  ]
}