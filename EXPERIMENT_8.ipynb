{
  "nbformat": 4,
  "nbformat_minor": 0,
  "metadata": {
    "colab": {
      "provenance": [],
      "include_colab_link": true
    },
    "kernelspec": {
      "name": "python3",
      "display_name": "Python 3"
    },
    "language_info": {
      "name": "python"
    }
  },
  "cells": [
    {
      "cell_type": "markdown",
      "metadata": {
        "id": "view-in-github",
        "colab_type": "text"
      },
      "source": [
        "<a href=\"https://colab.research.google.com/github/ajaydavidsamuel/PYTHON-LAB-PROGRAMS/blob/main/EXPERIMENT_8.ipynb\" target=\"_parent\"><img src=\"https://colab.research.google.com/assets/colab-badge.svg\" alt=\"Open In Colab\"/></a>"
      ]
    },
    {
      "cell_type": "markdown",
      "source": [
        "Safe Division Calculator: You're building a simple calculator app. One of the most common issues is when a user tries to divide by zero. Write a program that takes two numbers from the user and performs division. Use try-except to handle ZeroDivisionError and display an appropriate message like \"Cannot divide by zero\".\n"
      ],
      "metadata": {
        "id": "skOooZtfrUu2"
      }
    },
    {
      "cell_type": "code",
      "source": [
        "num1 = float(input(\"Enter the numerator: \"))\n",
        "num2 = float(input(\"Enter the denominator: \"))\n",
        "\n",
        "try:\n",
        "\n",
        "    result = num1 / num2\n",
        "    print(\"Result of division:\", result)\n",
        "\n",
        "except ZeroDivisionError:\n",
        "\n",
        "    print(\"Cannot divide by zero.\")\n"
      ],
      "metadata": {
        "id": "zw1OH2IGrX_W"
      },
      "execution_count": null,
      "outputs": []
    },
    {
      "cell_type": "markdown",
      "source": [
        "Robust List Indexing: You’re developing a student report viewer. Users may sometimes enter an invalid index to view a student’s mark. Write a program that accesses an element from a predefined list of marks using an index provided by the user. Use exception handling to catch IndexError and print \"Invalid index entered. Please try again.\"\n"
      ],
      "metadata": {
        "id": "Ls60L9mQrYMy"
      }
    },
    {
      "cell_type": "code",
      "source": [
        "marks = [87, 92, 76, 81, 95]\n",
        "\n",
        "print(\"Available marks:\", marks)\n",
        "\n",
        "index = int(input(\"Enter the index to view the student's mark (0 to 4): \"))\n",
        "\n",
        "try:\n",
        "\n",
        "    print(\"Mark at index\", index, \"is:\", marks[index])\n",
        "\n",
        "except IndexError:\n",
        "\n",
        "    print(\"Invalid index entered. Please try again.\")\n"
      ],
      "metadata": {
        "id": "9lm9Z1ykrakA"
      },
      "execution_count": null,
      "outputs": []
    },
    {
      "cell_type": "markdown",
      "source": [
        "Type-Safe Input for Integer Conversion: You’re building a data entry form. Sometimes users enter text when a number is expected. Write a program that takes user input and converts it to an integer. Handle ValueError using a try-except block and print \"Please enter a valid number.\" if the input is not convertible.\n",
        "\n"
      ],
      "metadata": {
        "id": "ZxhO4yA5rayI"
      }
    },
    {
      "cell_type": "code",
      "source": [
        "user_input = input(\"Enter a number: \")\n",
        "\n",
        "try:\n",
        "\n",
        "    number = int(user_input)\n",
        "    print(\"You entered the number:\", number)\n",
        "\n",
        "except ValueError:\n",
        "\n",
        "    print(\"Please enter a valid number.\")\n"
      ],
      "metadata": {
        "id": "Fg-oSlUCreeA"
      },
      "execution_count": null,
      "outputs": []
    }
  ]
}